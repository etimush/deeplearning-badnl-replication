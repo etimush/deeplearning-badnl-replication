{
 "cells": [
  {
   "cell_type": "markdown",
   "id": "f00ce690",
   "metadata": {},
   "source": [
    "This notebook is designed to handle the preprocessing steps of the IMDB data before passing it on to further parts of the pipeline. \n",
    "\n",
    "Preprocessing occurs in the following steps:\n",
    "1.) Canonicalization - ensuring the data is of a consistent format\n",
    "2.) Word filtering - removal of meaningless and frequent words\n",
    "3.) Tokenization - separation of sentences into smaller \"tokens\", usually indivual words\n",
    "\n",
    "4.) Splitting\n",
    "\n",
    "The work of this section is based on work from:\n",
    "https://towardsdatascience.com/sentiment-analysis-using-lstm-and-glove-embeddings-99223a87fe8e\n"
   ]
  },
  {
   "cell_type": "code",
   "execution_count": 1,
   "id": "d9fbfefe",
   "metadata": {},
   "outputs": [],
   "source": [
    "# Import libraries\n",
    "\n",
    "#import tensorflow as tf\n",
    "import pandas as pd\n",
    "import numpy as np\n",
    "import string\n",
    "import re\n",
    "import os\n",
    "from time import sleep\n",
    "from tqdm.notebook import tqdm\n",
    "\n",
    "from sklearn.preprocessing import LabelBinarizer\n",
    "from sklearn.model_selection import train_test_split"
   ]
  },
  {
   "cell_type": "markdown",
   "id": "fe2e4f90",
   "metadata": {},
   "source": [
    "*** Word Filtering ***\n"
   ]
  },
  {
   "cell_type": "code",
   "execution_count": 2,
   "id": "171e48db",
   "metadata": {},
   "outputs": [],
   "source": [
    "# load the IMDB Data\n",
    "\n",
    "# Check how to use the file directory system for this\n",
    "path = r'~/Deep_learning/deeplearning-badnl-replication/Data/Poisoned_data/IMDB_BadChar_poisoned_start_all.csv'\n",
    "data = pd.read_csv(path)\n",
    "\n",
    "\n",
    "# list of stop words taken from https://towardsdatascience.com/sentiment-analysis-using-lstm-and-glove-embeddings-99223a87fe8e\n",
    "# more stop word lists to be found at: http://kavita-ganesan.com/what-are-stop-words/#.YjMZqnrMKUk\n",
    "\n",
    "# takes the list of reviews and makes them lowercase\n",
    "def lowercasify(data):\n",
    "    data['review'] = data['review'].str.lower()\n",
    "    return data\n",
    "\n",
    "# takes the list of reviews and removes html symbols\n",
    "def filter_symbols(text):\n",
    "    for idx in range(len(text)):                # iterate through each of the 5000 reviews\n",
    "        single_review = text.review[idx] \n",
    "        filtered_review = re.sub(\"\\<.*?\\>\", \"\", single_review)\n",
    "        text.review[idx] = filtered_review      # replaces filtered review in list of reviews\n",
    "        \n",
    "    print('\\n \\n Symbol removed text: \\n', filtered_review)\n",
    "    return text\n",
    "\n",
    "\n",
    "# removes any of the so called \"stop words\" from the be-c conda-forge keraslow list\n",
    "def filter_stopwords(data):\n",
    "    filtered_copy = data.copy()\n",
    "    \n",
    "    stopwords = [ \"a\", \"about\", \"above\", \"after\", \"again\", \"against\", \"all\", \"am\", \"an\", \"and\", \"any\", \"are\", \"as\", \"at\", \"be\", \"because\", \n",
    "                 \"been\", \"before\", \"being\", \"below\", \"between\", \"both\", \"but\", \"by\", \"could\", \"did\", \"do\", \"does\", \"doing\", \"down\", \"during\",\n",
    "                 \"each\", \"few\", \"for\", \"from\", \"further\", \"had\", \"has\", \"have\", \"having\", \"he\", \"he'd\", \"he'll\", \"he's\", \"her\", \"here\", \n",
    "                 \"here's\", \"hers\", \"herself\", \"him\", \"himself\", \"his\", \"how\", \"how's\", \"i\", \"i'd\", \"i'll\", \"i'm\", \"i've\", \"if\", \"in\", \"into\",\n",
    "                 \"is\", \"it\", \"it's\", \"its\", \"itself\", \"let's\", \"me\", \"more\", \"most\", \"my\", \"myself\", \"nor\", \"of\", \"on\", \"once\", \"only\", \"or\",\n",
    "                 \"other\", \"ought\", \"our\", \"ours\", \"ourselves\", \"out\", \"over\", \"own\", \"same\", \"she\", \"she'd\", \"she'll\", \"she's\", \"should\", \n",
    "                 \"so\", \"some\", \"such\", \"than\", \"that\", \"that's\", \"the\", \"their\", \"theirs\", \"them\", \"themselves\", \"then\", \"there\", \"there's\",\n",
    "                 \"these\", \"they\", \"they'd\", \"they'll\", \"they're\", \"they've\", \"this\", \"those\", \"through\", \"to\", \"too\", \"under\", \"until\", \"up\",\n",
    "                 \"very\", \"was\", \"we\", \"we'd\", \"we'll\", \"we're\", \"we've\", \"were\", \"what\", \"what's\", \"when\", \"when's\", \"where\", \"where's\",\n",
    "                 \"which\", \"while\", \"who\", \"who's\", \"whom\", \"why\", \"why's\", \"with\", \"would\", \"you\", \"you'd\", \"you'll\", \"you're\", \"you've\",\n",
    "                 \"your\", \"yours\", \"yourself\", \"yourselves\" ]\n",
    "    \n",
    "    for idx in tqdm(range(len(data))):              # iterate through each of the 5000 reviews\n",
    "        single_review = filtered_copy.review[idx]   # pulls single review from dataframe as a string\n",
    "        review_list = (single_review.split())       # splits one review into a list of words\n",
    "        filtered_review = [words for words in review_list if words not in stopwords]\n",
    "#         filtered_review = (filtered_review.split())       # splits one review into a list of words\n",
    "        filtered_copy.review[idx] = filtered_review          # replaces filtered review in list of reviews\n",
    "    \n",
    "\n",
    "    print('review list, I thin how it should be: /n /n ', review_list)\n",
    "\n",
    "    return filtered_copy # returns filtered reviews as a dataframe with two categories: sentiments and reviews. Reviews category is a list of reviews that are each a list of words\n",
    "\n"
   ]
  },
  {
   "cell_type": "code",
   "execution_count": 3,
   "id": "61861083",
   "metadata": {},
   "outputs": [
    {
     "name": "stdout",
     "output_type": "stream",
     "text": [
      "Unmodified review: \n",
      " No one expects the Star Trek movies to be high art, but the fans do expect a movie that is as good as some of the best episodes. Unfortunately, this movie had a muddled, implausible plot that just left me cringing - this is by far the worst of the nine (so far) movies. Even the chance to watch the well known characters interact in anothe‌‌‌‌‌‌‌‌‌‌‌‌‌‌‌‌‌‌‌‌‌‌‌‌r movie can't save this movie - including the goofy scenes with Kirk, Spock and McCoy at Yosemite.<br /><br />I would say this movie is not worth a rental, and hardly worth watching, however for the True Fan who needs to see all the movies, renting this movie is about the only way you'll see it - even the cable channels avoid this movie.\n"
     ]
    },
    {
     "name": "stderr",
     "output_type": "stream",
     "text": [
      "/tmp/ipykernel_17214/2937359274.py:21: SettingWithCopyWarning: \n",
      "A value is trying to be set on a copy of a slice from a DataFrame\n",
      "\n",
      "See the caveats in the documentation: https://pandas.pydata.org/pandas-docs/stable/user_guide/indexing.html#returning-a-view-versus-a-copy\n",
      "  text.review[idx] = filtered_review      # replaces filtered review in list of reviews\n"
     ]
    },
    {
     "name": "stdout",
     "output_type": "stream",
     "text": [
      "\n",
      " \n",
      " Symbol removed text: \n",
      " no one expects the star trek movies to be high art, but the fans do expect a movie that is as good as some of the best episodes. unfortunately, this movie had a muddled, implausible plot that just left me cringing - this is by far the worst of the nine (so far) movies. even the chance to watch the well known characters interact in anothe‌‌‌‌‌‌‌‌‌‌‌‌‌‌‌‌‌‌‌‌‌‌‌‌r movie can't save this movie - including the goofy scenes with kirk, spock and mccoy at yosemite.i would say this movie is not worth a rental, and hardly worth watching, however for the true fan who needs to see all the movies, renting this movie is about the only way you'll see it - even the cable channels avoid this movie.\n"
     ]
    },
    {
     "data": {
      "application/vnd.jupyter.widget-view+json": {
       "model_id": "f10b919caadd4839a0bc86b703fe5379",
       "version_major": 2,
       "version_minor": 0
      },
      "text/plain": [
       "  0%|          | 0/50000 [00:00<?, ?it/s]"
      ]
     },
     "metadata": {},
     "output_type": "display_data"
    },
    {
     "name": "stderr",
     "output_type": "stream",
     "text": [
      "/tmp/ipykernel_17214/2937359274.py:48: SettingWithCopyWarning: \n",
      "A value is trying to be set on a copy of a slice from a DataFrame\n",
      "\n",
      "See the caveats in the documentation: https://pandas.pydata.org/pandas-docs/stable/user_guide/indexing.html#returning-a-view-versus-a-copy\n",
      "  filtered_copy.review[idx] = filtered_review          # replaces filtered review in list of reviews\n"
     ]
    },
    {
     "name": "stdout",
     "output_type": "stream",
     "text": [
      "review list, I thin how it should be: /n /n  ['no', 'one', 'expects', 'the', 'star', 'trek', 'movies', 'to', 'be', 'high', 'art,', 'but', 'the', 'fans', 'do', 'expect', 'a', 'movie', 'that', 'is', 'as', 'good', 'as', 'some', 'of', 'the', 'best', 'episodes.', 'unfortunately,', 'this', 'movie', 'had', 'a', 'muddled,', 'implausible', 'plot', 'that', 'just', 'left', 'me', 'cringing', '-', 'this', 'is', 'by', 'far', 'the', 'worst', 'of', 'the', 'nine', '(so', 'far)', 'movies.', 'even', 'the', 'chance', 'to', 'watch', 'the', 'well', 'known', 'characters', 'interact', 'in', 'anothe\\u200c\\u200c\\u200c\\u200c\\u200c\\u200c\\u200c\\u200c\\u200c\\u200c\\u200c\\u200c\\u200c\\u200c\\u200c\\u200c\\u200c\\u200c\\u200c\\u200c\\u200c\\u200c\\u200c\\u200cr', 'movie', \"can't\", 'save', 'this', 'movie', '-', 'including', 'the', 'goofy', 'scenes', 'with', 'kirk,', 'spock', 'and', 'mccoy', 'at', 'yosemite.i', 'would', 'say', 'this', 'movie', 'is', 'not', 'worth', 'a', 'rental,', 'and', 'hardly', 'worth', 'watching,', 'however', 'for', 'the', 'true', 'fan', 'who', 'needs', 'to', 'see', 'all', 'the', 'movies,', 'renting', 'this', 'movie', 'is', 'about', 'the', 'only', 'way', \"you'll\", 'see', 'it', '-', 'even', 'the', 'cable', 'channels', 'avoid', 'this', 'movie.']\n",
      "\n",
      " Single filtered review: (filtered_reviewss) \n",
      " ['no', 'one', 'expects', 'star', 'trek', 'movies', 'high', 'art,', 'fans', 'expect', 'movie', 'good', 'best', 'episodes.', 'unfortunately,', 'movie', 'muddled,', 'implausible', 'plot', 'just', 'left', 'cringing', '-', 'far', 'worst', 'nine', '(so', 'far)', 'movies.', 'even', 'chance', 'watch', 'well', 'known', 'characters', 'interact', 'anothe\\u200c\\u200c\\u200c\\u200c\\u200c\\u200c\\u200c\\u200c\\u200c\\u200c\\u200c\\u200c\\u200c\\u200c\\u200c\\u200c\\u200c\\u200c\\u200c\\u200c\\u200c\\u200c\\u200c\\u200cr', 'movie', \"can't\", 'save', 'movie', '-', 'including', 'goofy', 'scenes', 'kirk,', 'spock', 'mccoy', 'yosemite.i', 'say', 'movie', 'not', 'worth', 'rental,', 'hardly', 'worth', 'watching,', 'however', 'true', 'fan', 'needs', 'see', 'movies,', 'renting', 'movie', 'way', 'see', '-', 'even', 'cable', 'channels', 'avoid', 'movie.']\n"
     ]
    }
   ],
   "source": [
    "# call the functions as a test\n",
    "\n",
    "print('Unmodified review: \\n', data.review[len(data.review)-1])\n",
    "lowercase_reviews = lowercasify(data)\n",
    "no_symbol_review = filter_symbols(lowercase_reviews)\n",
    "filtered_reviews = filter_stopwords(no_symbol_review)\n",
    "\n",
    "print('\\n Single filtered review: (filtered_reviewss) \\n', filtered_reviews.review[len(data.review)-1])\n"
   ]
  },
  {
   "cell_type": "markdown",
   "id": "398244fe",
   "metadata": {},
   "source": [
    "Output of \"data_preprocessing\" function should be a list of reviews, with each review consisting of a list of words. This means after stop word and symbol filtering the dataset is tokenized. The words are all lowercase, with no punctuation, html symbols or stop words."
   ]
  },
  {
   "cell_type": "code",
   "execution_count": 4,
   "id": "c5d347f0",
   "metadata": {},
   "outputs": [
    {
     "name": "stderr",
     "output_type": "stream",
     "text": [
      "/tmp/ipykernel_17214/3416348901.py:4: SettingWithCopyWarning: \n",
      "A value is trying to be set on a copy of a slice from a DataFrame\n",
      "\n",
      "See the caveats in the documentation: https://pandas.pydata.org/pandas-docs/stable/user_guide/indexing.html#returning-a-view-versus-a-copy\n",
      "  filtered_copy['sentiment'][i] = 1 if filtered_reviews['sentiment'][i] == 'positive' else 0\n"
     ]
    },
    {
     "name": "stdout",
     "output_type": "stream",
     "text": [
      "       Unnamed: 0                                             review sentiment\n",
      "0               0  [one, reviewers, mentioned, watching, just, 1,...         1\n",
      "1               1  [wonderful, little, production., filming, tech...         1\n",
      "2               2  [thought, wonderful, way, spend, time, hot, su...         1\n",
      "3               3  [basically, family, little, boy, (jake), think...         0\n",
      "4               4  [petter, mattei's, \"love, time, money\", visual...         1\n",
      "...           ...                                                ...       ...\n",
      "49995       49995  [thought, movie, right, good, job., wasn't, cr...         1\n",
      "49996       49996  [bad, plot,, bad, dialogue,, bad, acting,, idi...         1\n",
      "49997       49997  [catholic, taught, parochial, elementary, scho...         0\n",
      "49998       49998  [going, disagree, previous, comment, side, mal...         1\n",
      "49999       49999  [no, one, expects, star, trek, movies, high, a...         1\n",
      "\n",
      "[50000 rows x 3 columns]\n"
     ]
    }
   ],
   "source": [
    "def binarize_sentiment(filtered_reviews):\n",
    "    filtered_copy = filtered_reviews.copy()\n",
    "    for i in range(len(filtered_copy)):\n",
    "        filtered_copy['sentiment'][i] = 1 if filtered_reviews['sentiment'][i] == 'positive' else 0\n",
    "    return filtered_copy\n",
    "\n",
    "y = binarize_sentiment(filtered_reviews)\n",
    "print(y)"
   ]
  },
  {
   "cell_type": "markdown",
   "id": "120d22ad",
   "metadata": {},
   "source": [
    "*** Making a train test split ***\n"
   ]
  },
  {
   "cell_type": "code",
   "execution_count": 79,
   "id": "bf7b0357",
   "metadata": {},
   "outputs": [],
   "source": [
    "def train_test_split(filtered_reviews, y, test_size=0.2):\n",
    "    X_train, X_test, Y_train, Y_test = train_test_split(filtered_reviews, y, test_size, random_state = 42)\n",
    "    return X_train, X_test, Y_train, Y_test\n"
   ]
  },
  {
   "cell_type": "code",
   "execution_count": null,
   "id": "e26d776d",
   "metadata": {},
   "outputs": [],
   "source": [
    "y.to_csv(r'~/Deep_learning/deeplearning-badnl-replication/Data/IMDB_BadWord_poisoned_start_processes.csv')"
   ]
  }
 ],
 "metadata": {
  "kernelspec": {
   "display_name": "Python 3 (ipykernel)",
   "language": "python",
   "name": "python3"
  },
  "language_info": {
   "codemirror_mode": {
    "name": "ipython",
    "version": 3
   },
   "file_extension": ".py",
   "mimetype": "text/x-python",
   "name": "python",
   "nbconvert_exporter": "python",
   "pygments_lexer": "ipython3",
   "version": "3.9.7"
  }
 },
 "nbformat": 4,
 "nbformat_minor": 5
}
